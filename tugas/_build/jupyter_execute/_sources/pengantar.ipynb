{
 "cells": [
  {
   "cell_type": "markdown",
   "metadata": {},
   "source": [
    "# Pengantar Web Mining\n",
    "\n",
    "Web mining adalah pendekatan yang menggunakan berbagai metode untuk mengekstrak data dari internet. Bidang ini memanfaatkan teknik **data mining** untuk menemukan informasi dan pola berharga di dunia maya, seperti hubungan antar halaman web, konten di dalamnya, atau jejak aktivitas pengguna saat menjelajah. Wawasan yang didapatkan dari web mining dapat digunakan oleh perusahaan untuk membuat keputusan dan kebijakan yang lebih baik.\n",
    "\n",
    "---\n",
    "\n",
    "## Web mining menggabungkan berbagai metode, termasuk:\n",
    "\n",
    "- **Pembelajaran Mesin (Machine Learning)**\n",
    "- **Sistem Basis Data**\n",
    "- **Analisis Jaringan Sosial dan Graf**\n",
    "- **Pemrosesan Bahasa Alami (Natural Language Processing)**\n",
    "\n",
    "---\n",
    "\n",
    "## Tiga Kategori Utama Web Mining\n",
    "\n",
    "1.  ### Penambangan Konten Web (Web Content Mining)\n",
    "    Kategori ini berfokus pada penemuan informasi relevan dari dokumen digital di internet, seperti:\n",
    "    - **Teks**: Artikel, deskripsi produk, atau ulasan.\n",
    "    - **Media**: Gambar, audio, dan video.\n",
    "    - **Data Terstruktur**: Tabel dan daftar.\n",
    "\n",
    "    Penerapannya mencakup ekstraksi informasi, pemodelan topik, pembuatan ringkasan otomatis, pengelompokan dokumen (*clustering*), dan analisis sentimen. Algoritma yang umum digunakan adalah **Naive Bayes**, **Support Vector Machines (SVM)**, dan **Jaringan Saraf Tiruan Mendalam (Deep Neural Nets)**.\n",
    "\n",
    "2.  ### Penambangan Pola Penggunaan Web (Web Usage Mining)\n",
    "    Kategori ini menganalisis data yang dihasilkan dari interaksi pengguna dengan situs web, yang biasanya terekam dalam *log file* server, *log* referensi, dan *cookie*.\n",
    "\n",
    "    Salah satu teknik utama yang digunakan adalah **analisis *clickstream***, di mana urutan klik pengguna saat menjelajah situs direkam untuk mempelajari perilaku mereka. Hasil penambangan ini sangat berguna untuk membangun sistem rekomendasi produk atau personalisasi hasil pencarian.\n",
    "\n",
    "3.  ### Penambangan Struktur Web (Web Structure Mining)\n",
    "    Proses ini bertujuan untuk menemukan pola-pola dalam struktur tautan (**hyperlink**) dan hubungan antar halaman web. Visualisasi dari halaman web dan tautan yang menghubungkannya disebut **grafik web**, di mana setiap halaman adalah simpul (*node*) dan setiap tautan adalah sisi (*edge*) yang menghubungkannya.\n",
    "\n",
    "    Analisis struktur web memiliki beberapa manfaat penting, seperti:\n",
    "    - Mengukur tingkat otoritas suatu halaman (seperti algoritma **PageRank**).\n",
    "    - Mengidentifikasi terbentuknya komunitas virtual.\n",
    "    - Menganalisis jaringan sosial digital.\n",
    "    - Mengidentifikasi akun atau tokoh penting di media sosial.\n",
    "\n",
    "---\n",
    "\n",
    "## Tahapan Proses Web Mining\n",
    "\n",
    "Proses web mining mirip dengan proses data mining pada umumnya, namun dengan karakteristik unik pada tahap pengumpulan dan pemrosesan data:\n",
    "\n",
    "1.  **Pengambilan Data Web**: Data dikumpulkan melalui proses **crawling** otomatis atau dengan memanfaatkan **Antarmuka Pemrograman Aplikasi (API)** web.\n",
    "2.  **Pra-pemrosesan dan Transformasi Data**: Data mentah diubah ke dalam format yang siap dianalisis. Tahap ini sering kali memakan 70% hingga 80% dari total waktu proyek.\n",
    "3.  **Implementasi Data Mining**: Metode data mining diterapkan untuk menghasilkan model atau pola yang diinginkan, yang kemudian dievaluasi.\n",
    "\n",
    "---\n",
    "\n",
    "## Daftar Referensi\n",
    "\n",
    "<p><b>Han, J., Kamber, M., & Pei, J. (2011).</b> <i>Data Mining: Concepts and Techniques (3rd ed.).</i> Morgan Kaufmann.</p>\n",
    "<p><b>Liu, B. (2011).</b> <i>Web Data Mining: Exploring Hyperlinks, Contents, and Usage Data (2nd ed.).</i> Springer.</p>\n",
    "<p><b>Chakrabarti, S. (2002).</b> <i>Mining the Web: Discovering Knowledge from Hypertext Data.</i> Morgan Kaufmann.</p>\n",
    "<p><b>Fayyad, U., Piatetsky-Shapiro, G., & Smyth, P. (1996).</b> <i>From data mining to knowledge discovery in databases. AI Magazine, 17(3), 37-54.</i></p>\n",
    "<p><b>Aggarwal, C. C. (2015).</b> <i>Data Mining: The Textbook.</i> Springer.</p>"
   ]
  }
 ],
 "metadata": {
  "kernelspec": {
   "display_name": "Python 3",
   "language": "python",
   "name": "python3"
  },
  "language_info": {
   "codemirror_mode": {
    "name": "ipython",
    "version": 3
   },
   "file_extension": ".py",
   "mimetype": "text/x-python",
   "name": "python",
   "nbconvert_exporter": "python",
   "pygments_lexer": "ipython3",
   "version": "3.13.5"
  },
  "widgets": {
   "application/vnd.jupyter.widget-state+json": {
    "state": {},
    "version_major": 2,
    "version_minor": 0
   }
  }
 },
 "nbformat": 4,
 "nbformat_minor": 4
}